{
 "cells": [
  {
   "attachments": {},
   "cell_type": "markdown",
   "metadata": {},
   "source": [
    "## Problema 2\n",
    "Estudiantes:\n",
    "- Matías Fuentes\n",
    "- Larry Uribne"
   ]
  },
  {
   "cell_type": "code",
   "execution_count": null,
   "metadata": {},
   "outputs": [],
   "source": [
    "!pip install pyspark"
   ]
  },
  {
   "cell_type": "code",
   "execution_count": null,
   "metadata": {},
   "outputs": [],
   "source": [
    "!wget https://github.com/IIC2440/Syllabus-2023-1/raw/main/Actividades/cora.zip\n",
    "!unzip /content/cora.zip"
   ]
  },
  {
   "cell_type": "code",
   "execution_count": null,
   "metadata": {},
   "outputs": [],
   "source": [
    "from pyspark.sql import SparkSession\n",
    "import pandas as pd\n",
    "import math\n",
    "spark = SparkSession.builder \\\n",
    "    .getOrCreate()\n",
    "sc = spark.sparkContext"
   ]
  },
  {
   "attachments": {},
   "cell_type": "markdown",
   "metadata": {},
   "source": [
    "Recibir input de juguete"
   ]
  },
  {
   "cell_type": "code",
   "execution_count": null,
   "metadata": {},
   "outputs": [],
   "source": [
    "nodes = list(range(1, 9))\n",
    "edges = [(1,2,4), (1,3,2), (1,4,1), (3,2,1), (3,5,6),(4,5,9),(4,6,2),(7,8,9), (5,6,1)]"
   ]
  },
  {
   "attachments": {},
   "cell_type": "markdown",
   "metadata": {},
   "source": [
    "Generar RDDs"
   ]
  },
  {
   "cell_type": "code",
   "execution_count": null,
   "metadata": {},
   "outputs": [],
   "source": [
    "rdd_nodes = sc.parallelize(nodes)\n",
    "rdd_edges = sc.parallelize(edges)"
   ]
  },
  {
   "attachments": {},
   "cell_type": "markdown",
   "metadata": {},
   "source": [
    "Formateamos las aristas"
   ]
  },
  {
   "cell_type": "code",
   "execution_count": null,
   "metadata": {},
   "outputs": [],
   "source": [
    "rdd_edges = rdd_edges.map(lambda x: (x[0], (x[1], x[2])))\n",
    "rdd_edges.collect()"
   ]
  },
  {
   "attachments": {},
   "cell_type": "markdown",
   "metadata": {},
   "source": [
    "1. Escoge el nodo inicial, este nodo tiene costo acumulado 0 y todos los demás tienen costo acumulado\n",
    "infinito."
   ]
  },
  {
   "cell_type": "code",
   "execution_count": null,
   "metadata": {},
   "outputs": [],
   "source": [
    "def init_rdd(rdd_nodes, initial_node):\n",
    "    bc_initial_node = sc.broadcast(initial_node) # Disponibilizar para todos los worker\n",
    "    return rdd_nodes.map(lambda x: (x, math.inf) if x != bc_initial_node.value else (x, 0))\n",
    "rdd_init = init_rdd(rdd_nodes, 1)\n",
    "rdd_init.collect()"
   ]
  },
  {
   "attachments": {},
   "cell_type": "markdown",
   "metadata": {},
   "source": [
    "2. En cada iteración, cada nodo comunica el costo acumulado a sus vecinos. Cada nodo recibe este costo,\n",
    "sumado con el costo de atravesar la arista."
   ]
  },
  {
   "cell_type": "code",
   "execution_count": null,
   "metadata": {},
   "outputs": [],
   "source": [
    "rdd_edges.join(rdd_init).collect()"
   ]
  },
  {
   "cell_type": "code",
   "execution_count": null,
   "metadata": {},
   "outputs": [],
   "source": [
    "def pass_msg(rdd_edges, rdd_prev):\n",
    "    return rdd_edges.join(rdd_prev).mapValues(lambda x: (x[0][0], x[0][1] + x[1])).values()\n",
    "rdd_pass_msg = pass_msg(rdd_edges, rdd_init)\n",
    "rdd_pass_msg.collect()"
   ]
  },
  {
   "attachments": {},
   "cell_type": "markdown",
   "metadata": {},
   "source": [
    "3. Para hacer merge de todos los mensajes dejamos el mínimo de todos los costos. Así, actualizamos cada\n",
    "nodo con el costo mínimo recibido solo si es menor al costo acumulado que ya tenía ese nodo."
   ]
  },
  {
   "cell_type": "code",
   "execution_count": null,
   "metadata": {},
   "outputs": [],
   "source": [
    "def reduce_msg(rdd_pass_msg):\n",
    "    return rdd_pass_msg.reduceByKey(lambda x, y: min(x, y))\n",
    "    \n",
    "rdd_reduce_msg = reduce_msg(rdd_pass_msg)\n",
    "rdd_reduce_msg.collect()"
   ]
  },
  {
   "cell_type": "code",
   "execution_count": null,
   "metadata": {},
   "outputs": [],
   "source": [
    "def robust_min(x):\n",
    "    a, b = x\n",
    "    try:\n",
    "        return min(a,b)\n",
    "    except:\n",
    "        return a if a != None else b\n",
    "    \n",
    "def update_cost(rdd_prev, rdd_reduce_msg):\n",
    "    return rdd_prev.leftOuterJoin(rdd_reduce_msg).mapValues(lambda x: robust_min(x))\n",
    "\n",
    "rdd_updated_cost = update_cost(rdd_init, rdd_reduce_msg)\n",
    "rdd_updated_cost.collect()"
   ]
  },
  {
   "attachments": {},
   "cell_type": "markdown",
   "metadata": {},
   "source": [
    "4. Si en dos iteraciones el costo en llegar para cada nodo no cambia, entonces nos detenemos."
   ]
  },
  {
   "cell_type": "code",
   "execution_count": null,
   "metadata": {},
   "outputs": [],
   "source": [
    "def stop_condition(rdd_pre, rdd_post):\n",
    "    # RDD donde las llaves son los nodos y los valores son 1 si no hubo cambio y 0 si lo hubo\n",
    "    rdd_track_changes = rdd_pre.join(rdd_post).mapValues(lambda x: int(x[0] == x[1]))\n",
    "    # Intersección\n",
    "    n_changes = rdd_track_changes.values().reduce(lambda x, y: x + y) \n",
    "    return n_changes == 0\n",
    "stop_condition(rdd_init, rdd_updated_cost)"
   ]
  },
  {
   "attachments": {},
   "cell_type": "markdown",
   "metadata": {},
   "source": [
    "Consolidar en una función"
   ]
  },
  {
   "cell_type": "code",
   "execution_count": 157,
   "metadata": {},
   "outputs": [],
   "source": [
    "def init_rdd(rdd_nodes, initial_node):\n",
    "    bc_initial_node = sc.broadcast(initial_node) # Disponibilizar para todos los worker\n",
    "    return rdd_nodes.map(lambda x: (x, math.inf) if x != bc_initial_node.value else (x, 0))\n",
    "\n",
    "def pass_msg(rdd_edges, rdd_prev):\n",
    "    return rdd_edges.join(rdd_prev).mapValues(lambda x: (x[0][0], x[0][1] + x[1])).values()\n",
    "\n",
    "def reduce_msg(rdd_pass_msg):\n",
    "    return rdd_pass_msg.reduceByKey(lambda x, y: min(x, y))\n",
    "\n",
    "def robust_min(x):\n",
    "    a, b = x\n",
    "    try:\n",
    "        return min(a,b)\n",
    "    except:\n",
    "        return a if a != None else b\n",
    "    \n",
    "def update_cost(rdd_prev, rdd_reduce_msg):\n",
    "    return rdd_prev.leftOuterJoin(rdd_reduce_msg).mapValues(lambda x: robust_min(x))\n",
    "    \n",
    "def stop_condition(rdd_pre, rdd_post):\n",
    "    # RDD donde las llaves son los nodos y los valores son 0 si no hubo cambio y 1 si lo hubo\n",
    "    rdd_track_changes = rdd_pre.join(rdd_post).mapValues(lambda x: int(x[0] != x[1]))\n",
    "    \n",
    "    # Intersección\n",
    "    n_changes = rdd_track_changes.values().reduce(lambda x, y: x + y) \n",
    "    return n_changes == 0\n",
    "\n",
    "def single_source_shortest_path(rdd_nodes, rdd_edges, initial_node, max_iterations = 10000):\n",
    "    rdd_edges = rdd_edges.map(lambda x: (x[0], (x[1], x[2])))\n",
    "\n",
    "    # Nodo inicial en 0, el resto en infinito\n",
    "    rdd_init = init_rdd(rdd_nodes, initial_node)\n",
    "    rdd_prev_cost = rdd_init\n",
    "    \n",
    "    stop_counter = 0\n",
    "    for i in range(max_iterations):\n",
    "        rdd_pass_msg = pass_msg(rdd_edges, rdd_prev_cost)\n",
    "        #rdd_pass_msg = rdd_edges.join(rdd_prev_cost).mapValues(lambda x: (x[0][0], x[0][1] + x[1])).values()\n",
    "        rdd_reduce_msg = reduce_msg(rdd_pass_msg)\n",
    "        # rdd_reduce_msg = rdd_pass_msg.reduceByKey(lambda x, y: min(x, y))\n",
    "        rdd_updated_cost = update_cost(rdd_prev_cost, rdd_reduce_msg)\n",
    "        #rdd_updated_cost = rdd_prev_cost.leftOuterJoin(rdd_reduce_msg).mapValues(lambda x: robust_min(x))\n",
    "        if stop_condition(rdd_prev_cost, rdd_updated_cost):\n",
    "            stop_counter += 1\n",
    "            if stop_counter == 2:\n",
    "                break\n",
    "        else:\n",
    "            stop_counter = 0 \n",
    "        rdd_prev_cost = rdd_updated_cost\n",
    "        #print(\"Iteracion:\", i)\n",
    "        #print(rdd_updated_cost.collect())\n",
    "    print(f'Total iterations: {i+1}')\n",
    "    return rdd_updated_cost\n"
   ]
  },
  {
   "attachments": {},
   "cell_type": "markdown",
   "metadata": {},
   "source": [
    "Ejecutar y mostrar resultados"
   ]
  },
  {
   "cell_type": "code",
   "execution_count": 158,
   "metadata": {},
   "outputs": [
    {
     "name": "stderr",
     "output_type": "stream",
     "text": [
      "                                                                                \r"
     ]
    }
   ],
   "source": [
    "nodes = list(range(1, 9))\n",
    "edges = [(1,2,4), (1,3,2), (1,4,1), (3,2,1), (3,5,6),(4,5,9),(4,6,2),(7,8,9), (5,6,1)]\n",
    "\n",
    "initial_node = 1\n",
    "rdd_nodes = sc.parallelize(nodes)\n",
    "rdd_edges = sc.parallelize(edges)\n",
    "rdd_result = single_source_shortest_path(rdd_nodes, rdd_edges, initial_node)\n",
    "rdd_result.collect()"
   ]
  },
  {
   "attachments": {},
   "cell_type": "markdown",
   "metadata": {},
   "source": [
    "### Pruebas con Cora"
   ]
  },
  {
   "attachments": {},
   "cell_type": "markdown",
   "metadata": {},
   "source": [
    "Cargar datos de Cora y formatear para la tarea"
   ]
  },
  {
   "cell_type": "code",
   "execution_count": null,
   "metadata": {},
   "outputs": [],
   "source": [
    "citas = pd.read_csv('cora/cora.cites',sep=\"\\t\",\n",
    "                    header=None,\n",
    "                    names=[\"target\", \"source\"])\n",
    "nodes = list(set(list(citas.target.values) + list(citas.source.values)))\n",
    "edges = []\n",
    "for target, source in citas.values:\n",
    "    edges.append((source, target, 1))"
   ]
  },
  {
   "attachments": {},
   "cell_type": "markdown",
   "metadata": {},
   "source": [
    "Ejecutar con un nodo que es miembro de la componente conectada más grande, y tiene 5 vértices de salida"
   ]
  },
  {
   "cell_type": "code",
   "execution_count": 154,
   "metadata": {},
   "outputs": [
    {
     "name": "stderr",
     "output_type": "stream",
     "text": [
      "                                                                                \r"
     ]
    }
   ],
   "source": [
    "rdd_nodes = sc.parallelize(nodes)\n",
    "rdd_edges = sc.parallelize(edges)\n",
    "initial_node = 1105932\n",
    "rdd_result = single_source_shortest_path(rdd_nodes, rdd_edges, initial_node)"
   ]
  }
 ],
 "metadata": {
  "kernelspec": {
   "display_name": "tareas_proce",
   "language": "python",
   "name": "python3"
  },
  "language_info": {
   "codemirror_mode": {
    "name": "ipython",
    "version": 3
   },
   "file_extension": ".py",
   "mimetype": "text/x-python",
   "name": "python",
   "nbconvert_exporter": "python",
   "pygments_lexer": "ipython3",
   "version": "3.10.0"
  },
  "orig_nbformat": 4
 },
 "nbformat": 4,
 "nbformat_minor": 2
}
